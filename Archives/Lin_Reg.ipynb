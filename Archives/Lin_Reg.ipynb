{
 "cells": [
  {
   "cell_type": "code",
   "execution_count": 57,
   "id": "e325a6e6-f8a8-470a-b98a-95d0d8653292",
   "metadata": {
    "scrolled": true
   },
   "outputs": [
    {
     "name": "stdout",
     "output_type": "stream",
     "text": [
      "Done\n"
     ]
    }
   ],
   "source": [
    "import pandas as pd\n",
    "import numpy as np\n",
    "import random\n",
    "import statsmodels.api as sm\n",
    "#print(\"Done\")"
   ]
  },
  {
   "cell_type": "code",
   "execution_count": null,
   "id": "7fc8a3af-73ff-4552-b341-b6020997b761",
   "metadata": {},
   "outputs": [],
   "source": [
    "verts = pd.read_excel(\"verts.xlsx\")\n",
    "vert_data = verts.iloc[0:153, 3:27]\n",
    "#vert_data"
   ]
  },
  {
   "cell_type": "code",
   "execution_count": 59,
   "id": "6566aa25-0a48-41f0-9712-d0bd8296fd9e",
   "metadata": {},
   "outputs": [
    {
     "name": "stdout",
     "output_type": "stream",
     "text": [
      "Done\n"
     ]
    }
   ],
   "source": [
    "def total_sampling(data, t):\n",
    "    # Ensure t is in range\n",
    "    if t > 23 or t < 1:\n",
    "        raise ValueError(\"Sample size t must be between 1 and 23.\")\n",
    "    \n",
    "    # Sampling number of targets\n",
    "    sampled_columns = random.sample(range(23), t)\n",
    "    vert_sampled = data.iloc[:, sampled_columns]\n",
    "    \n",
    "    # Everything but sum\n",
    "    vert_sampled_counter = data.iloc[:, 23:24]\n",
    "    \n",
    "    vert_combined = pd.concat([vert_sampled.reset_index(drop=True), vert_sampled_counter.reset_index(drop=True)], axis=1)\n",
    "    vert_combined.columns = list(vert_combined.columns[:-1]) + [\"Sum_Verts\"]\n",
    "\n",
    "    # Train model\n",
    "    X = vert_combined.iloc[:, :-1]  # All but the last column\n",
    "    y = vert_combined[\"Sum_Verts\"]\n",
    "    X = sm.add_constant(X)  # Add a constant for intercept\n",
    "    lm_model = sm.OLS(y, X).fit()\n",
    "    \n",
    "    predictions = lm_model.predict(X)\n",
    "    residuals = vert_combined[\"Sum_Verts\"] - predictions\n",
    "    vert_sampling_sse = np.sum(residuals**2)  # Sum of Squared Errors\n",
    "    vert_sampling_r2 = lm_model.rsquared_adj\n",
    "    \n",
    "    vertebrae_names = [\"C2\", \"C3\", \"C4\", \"C5\", \"C6\", \"C7\",\n",
    "                       \"T1\", \"T2\", \"T3\", \"T4\", \"T5\", \"T6\", \"T7\", \n",
    "                       \"T8\", \"T9\", \"T10\", \"T11\", \"T12\", \n",
    "                       \"L1\", \"L2\", \"L3\", \"L4\", \"L5\"]\n",
    "    \n",
    "    variable_set = [1 if name in vert_combined.columns else 0 for name in vertebrae_names]\n",
    "    # Return model and other stats\n",
    "    return {\n",
    "        \"model\": lm_model,\n",
    "        \"SSE\": vert_sampling_sse,\n",
    "        \"R2\": vert_sampling_r2,\n",
    "        \"variable_set\": variable_set\n",
    "    }\n",
    "#print(\"Done\")"
   ]
  },
  {
   "cell_type": "code",
   "execution_count": 60,
   "id": "71d70aa9-0513-4429-9131-d75060b8b4b0",
   "metadata": {},
   "outputs": [
    {
     "name": "stdout",
     "output_type": "stream",
     "text": [
      "3178.616375050077\n",
      "0.971657054127795\n"
     ]
    }
   ],
   "source": [
    "results = total_sampling(vert_data, t=10)\n",
    "print(results['SSE'])\n",
    "print(results['R2'])"
   ]
  },
  {
   "cell_type": "code",
   "execution_count": 61,
   "id": "8fa09814-0ed6-40bc-b7f5-7f0ce70eb609",
   "metadata": {},
   "outputs": [
    {
     "data": {
      "text/html": [
       "<div>\n",
       "<style scoped>\n",
       "    .dataframe tbody tr th:only-of-type {\n",
       "        vertical-align: middle;\n",
       "    }\n",
       "\n",
       "    .dataframe tbody tr th {\n",
       "        vertical-align: top;\n",
       "    }\n",
       "\n",
       "    .dataframe thead th {\n",
       "        text-align: right;\n",
       "    }\n",
       "</style>\n",
       "<table border=\"1\" class=\"dataframe\">\n",
       "  <thead>\n",
       "    <tr style=\"text-align: right;\">\n",
       "      <th></th>\n",
       "      <th>C2</th>\n",
       "      <th>C3</th>\n",
       "      <th>C4</th>\n",
       "      <th>C5</th>\n",
       "      <th>C6</th>\n",
       "      <th>C7</th>\n",
       "      <th>T1</th>\n",
       "      <th>T2</th>\n",
       "      <th>T3</th>\n",
       "      <th>T4</th>\n",
       "      <th>...</th>\n",
       "      <th>T8</th>\n",
       "      <th>T9</th>\n",
       "      <th>T10</th>\n",
       "      <th>T11</th>\n",
       "      <th>T12</th>\n",
       "      <th>L1</th>\n",
       "      <th>L2</th>\n",
       "      <th>L3</th>\n",
       "      <th>L4</th>\n",
       "      <th>L5</th>\n",
       "    </tr>\n",
       "  </thead>\n",
       "  <tbody>\n",
       "    <tr>\n",
       "      <th>0</th>\n",
       "      <td>41.61</td>\n",
       "      <td>12.92</td>\n",
       "      <td>12.9</td>\n",
       "      <td>12.98</td>\n",
       "      <td>14.43</td>\n",
       "      <td>16.62</td>\n",
       "      <td>18.34</td>\n",
       "      <td>19.6</td>\n",
       "      <td>18.53</td>\n",
       "      <td>19.84</td>\n",
       "      <td>...</td>\n",
       "      <td>21.3</td>\n",
       "      <td>22.17</td>\n",
       "      <td>23.13</td>\n",
       "      <td>23.44</td>\n",
       "      <td>25.25</td>\n",
       "      <td>26.2</td>\n",
       "      <td>27.13</td>\n",
       "      <td>27.29</td>\n",
       "      <td>NaN</td>\n",
       "      <td>NaN</td>\n",
       "    </tr>\n",
       "  </tbody>\n",
       "</table>\n",
       "<p>1 rows × 23 columns</p>\n",
       "</div>"
      ],
      "text/plain": [
       "      C2     C3    C4     C5     C6     C7     T1    T2     T3     T4  ...  \\\n",
       "0  41.61  12.92  12.9  12.98  14.43  16.62  18.34  19.6  18.53  19.84  ...   \n",
       "\n",
       "     T8     T9    T10    T11    T12    L1     L2     L3  L4  L5  \n",
       "0  21.3  22.17  23.13  23.44  25.25  26.2  27.13  27.29 NaN NaN  \n",
       "\n",
       "[1 rows x 23 columns]"
      ]
     },
     "execution_count": 61,
     "metadata": {},
     "output_type": "execute_result"
    }
   ],
   "source": [
    "# Prepare data for prediction\n",
    "new_data = vert_data.iloc[0, :23].to_frame().T  # Sample new data\n",
    "new_data.iloc[:, 21:23] = np.nan\n",
    "#new_data"
   ]
  },
  {
   "cell_type": "code",
   "execution_count": 62,
   "id": "a70a1b77-bb85-4a4f-a486-1302beedd449",
   "metadata": {},
   "outputs": [],
   "source": [
    "new_data_imputed = new_data.copy()\n",
    "for i in range(new_data_imputed.shape[1]):\n",
    "    if new_data_imputed.iloc[:, i].isna().any():\n",
    "        mean_value = vert_data.iloc[:, i].mean()  # Calculate mean\n",
    "        new_data_imputed.iloc[:, i] = new_data_imputed.iloc[:, i].fillna(mean_value)  # Replace NA with mean\n",
    "#new_data_imputed"
   ]
  },
  {
   "cell_type": "code",
   "execution_count": 63,
   "id": "d45c2c99-3af3-4d48-99f7-afc92efd23f1",
   "metadata": {},
   "outputs": [],
   "source": [
    "X_columns = results[\"model\"].model.exog_names  \n",
    "new_data_imputed = new_data_imputed.reindex(columns=X_columns, fill_value=0)"
   ]
  },
  {
   "cell_type": "code",
   "execution_count": 65,
   "id": "1e1a5225-576f-4707-8683-89ea18a34c61",
   "metadata": {},
   "outputs": [
    {
     "name": "stdout",
     "output_type": "stream",
     "text": [
      "508.6145786476078\n",
      "0.401630275101231\n"
     ]
    }
   ],
   "source": [
    "predictions = results[\"model\"].predict(new_data_imputed)\n",
    "print(predictions[0])\n",
    "error = (predictions[0] - verts.iloc[0, 26]) * 100 / verts.iloc[0, 26]\n",
    "print(error)"
   ]
  },
  {
   "cell_type": "code",
   "execution_count": null,
   "id": "94a99470-e06f-45ca-8d5f-7458c56c55ff",
   "metadata": {},
   "outputs": [],
   "source": []
  }
 ],
 "metadata": {
  "kernelspec": {
   "display_name": "Python 3 (ipykernel)",
   "language": "python",
   "name": "python3"
  },
  "language_info": {
   "codemirror_mode": {
    "name": "ipython",
    "version": 3
   },
   "file_extension": ".py",
   "mimetype": "text/x-python",
   "name": "python",
   "nbconvert_exporter": "python",
   "pygments_lexer": "ipython3",
   "version": "3.11.9"
  }
 },
 "nbformat": 4,
 "nbformat_minor": 5
}
